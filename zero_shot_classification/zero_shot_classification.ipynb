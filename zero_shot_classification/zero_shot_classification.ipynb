{
 "cells": [
  {
   "cell_type": "markdown",
   "metadata": {},
   "source": [
    "* Lecture Notes:\n",
    "    * no labels needed\n",
    "    * the same model can classify dogs , cats , boats , stars, etc => no need to trained because it's powerful and can adapt with the task\n",
    "    * with zero classification model can predict classes without being tight up to number of classes\n"
   ]
  },
  {
   "cell_type": "code",
   "execution_count": 1,
   "metadata": {},
   "outputs": [
    {
     "name": "stderr",
     "output_type": "stream",
     "text": [
      "No model was supplied, defaulted to facebook/bart-large-mnli (https://huggingface.co/facebook/bart-large-mnli)\n",
      "Downloading: 100%|██████████| 1.13k/1.13k [00:00<00:00, 180kB/s]\n",
      "Downloading: 100%|██████████| 1.52G/1.52G [02:15<00:00, 12.0MB/s]\n",
      "Downloading: 100%|██████████| 26.0/26.0 [00:00<00:00, 6.16kB/s]\n",
      "Downloading: 100%|██████████| 878k/878k [00:00<00:00, 1.70MB/s]\n",
      "Downloading: 100%|██████████| 446k/446k [00:00<00:00, 864kB/s] \n",
      "Downloading: 100%|██████████| 1.29M/1.29M [00:00<00:00, 1.81MB/s]\n"
     ]
    }
   ],
   "source": [
    "from transformers import pipeline\n",
    "clf = pipeline(\"zero-shot-classification\")"
   ]
  },
  {
   "cell_type": "code",
   "execution_count": 2,
   "metadata": {},
   "outputs": [
    {
     "data": {
      "text/plain": [
       "{'sequence': 'this movie was excellent!',\n",
       " 'labels': ['positive', 'neutre', 'negative'],\n",
       " 'scores': [0.9894052147865295, 0.00815750565379858, 0.002437338698655367]}"
      ]
     },
     "execution_count": 2,
     "metadata": {},
     "output_type": "execute_result"
    }
   ],
   "source": [
    "text = \"this movie was excellent!\"\n",
    "candidate_labels = [\"positive\", \"neutre\" , \"negative\"]\n",
    "\n",
    "clf(text , candidate_labels = candidate_labels)"
   ]
  },
  {
   "cell_type": "code",
   "execution_count": null,
   "metadata": {},
   "outputs": [],
   "source": []
  }
 ],
 "metadata": {
  "interpreter": {
   "hash": "21fd66fbb142c4f58462d59b3edbb3c43e8da23017c83c3df49ea6b64ec9b179"
  },
  "kernelspec": {
   "display_name": "Python 3.6.9 64-bit ('3.6.9')",
   "language": "python",
   "name": "python3"
  },
  "language_info": {
   "codemirror_mode": {
    "name": "ipython",
    "version": 3
   },
   "file_extension": ".py",
   "mimetype": "text/x-python",
   "name": "python",
   "nbconvert_exporter": "python",
   "pygments_lexer": "ipython3",
   "version": "3.6.9"
  },
  "orig_nbformat": 4
 },
 "nbformat": 4,
 "nbformat_minor": 2
}
