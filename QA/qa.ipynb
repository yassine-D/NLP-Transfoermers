{
 "cells": [
  {
   "cell_type": "markdown",
   "metadata": {},
   "source": [
    "Lecture notes:\n",
    "* Having an AI system that answers questions ( chatbot)\n",
    "* such system could represent doctors, teacher , etc a virtuel assistant\n",
    "* e.q Siri in Iphones\n",
    "* SQuAD : is dataset used to develop AI Question answering dataset for language understanding\n",
    "* input : question , output:answer\n",
    "* the answer is always contained in the input , so QA is basiclly an extraction method that extract the answer from the question (input)\n",
    "* Q A is seq to seq task and simple NLP\n",
    "* Fpr training , the q a model take a sentence that got two piece of info:\n",
    "    - Question : that we need to answer\n",
    "    - Context: which represent the answer to that question\n",
    "    - they are seperated by a SEP chracter and CLS to mark the beginning and end \n",
    "    "
   ]
  },
  {
   "cell_type": "code",
   "execution_count": 1,
   "metadata": {},
   "outputs": [
    {
     "name": "stderr",
     "output_type": "stream",
     "text": [
      "No model was supplied, defaulted to distilbert-base-cased-distilled-squad (https://huggingface.co/distilbert-base-cased-distilled-squad)\n",
      "Downloading: 100%|██████████| 473/473 [00:00<00:00, 105kB/s]\n",
      "Downloading: 100%|██████████| 249M/249M [00:22<00:00, 11.6MB/s] \n",
      "Downloading: 100%|██████████| 29.0/29.0 [00:00<00:00, 8.43kB/s]\n",
      "Downloading: 100%|██████████| 208k/208k [00:00<00:00, 601kB/s] \n",
      "Downloading: 100%|██████████| 426k/426k [00:00<00:00, 954kB/s] \n"
     ]
    },
    {
     "data": {
      "text/plain": [
       "{'score': 0.3708397150039673, 'start': 12, 'end': 20, 'answer': 'a cheese'}"
      ]
     },
     "execution_count": 1,
     "metadata": {},
     "output_type": "execute_result"
    }
   ],
   "source": [
    "# hugging face syntax\n",
    "from transformers import pipeline\n",
    "\n",
    "qa = pipeline(\"question-answering\")\n",
    "ctx= \"Today i ate a cheese sandwich\"\n",
    "q= \"What did i put in my sandwich today?\"\n",
    "\n",
    "qa(context= ctx , question=q)"
   ]
  },
  {
   "cell_type": "markdown",
   "metadata": {},
   "source": []
  }
 ],
 "metadata": {
  "interpreter": {
   "hash": "21fd66fbb142c4f58462d59b3edbb3c43e8da23017c83c3df49ea6b64ec9b179"
  },
  "kernelspec": {
   "display_name": "Python 3.6.9 64-bit ('3.6.9')",
   "language": "python",
   "name": "python3"
  },
  "language_info": {
   "codemirror_mode": {
    "name": "ipython",
    "version": 3
   },
   "file_extension": ".py",
   "mimetype": "text/x-python",
   "name": "python",
   "nbconvert_exporter": "python",
   "pygments_lexer": "ipython3",
   "version": "3.6.9"
  },
  "orig_nbformat": 4
 },
 "nbformat": 4,
 "nbformat_minor": 2
}
