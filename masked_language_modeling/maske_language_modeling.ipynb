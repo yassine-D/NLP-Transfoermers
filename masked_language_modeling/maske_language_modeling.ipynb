{
 "cells": [
  {
   "cell_type": "markdown",
   "metadata": {},
   "source": [
    "* autoregressive language models predict the next words based on the previous words such as text generation  ( Used by the GPT models family)\n",
    "* Masked language models will predict a word based on previous AND fucture words wich will be able to understand it's context ( used by BERT family)\n",
    "* BERT will predict words using the previous and future words to learn and capture the context and predict correctly\n",
    "\n",
    "* Article spinning change words from article that doesn't change the meaning and helps stealing other articles and have different words so it won't match the original article and we can get away with this :)\n",
    "\n"
   ]
  },
  {
   "cell_type": "code",
   "execution_count": 1,
   "metadata": {},
   "outputs": [
    {
     "name": "stderr",
     "output_type": "stream",
     "text": [
      "No model was supplied, defaulted to distilroberta-base and revision ec58a5b (https://huggingface.co/distilroberta-base).\n",
      "Using a pipeline without specifying a model name and revision in production is not recommended.\n",
      "Downloading: 100%|██████████| 480/480 [00:00<00:00, 38.3kB/s]\n",
      "Downloading: 100%|██████████| 331M/331M [00:17<00:00, 18.9MB/s] \n",
      "Downloading: 100%|██████████| 899k/899k [00:00<00:00, 1.43MB/s]\n",
      "Downloading: 100%|██████████| 456k/456k [00:00<00:00, 961kB/s] \n",
      "Downloading: 100%|██████████| 1.36M/1.36M [00:00<00:00, 1.85MB/s]\n"
     ]
    },
    {
     "data": {
      "text/plain": [
       "[{'score': 0.06331583112478256,\n",
       "  'token': 36196,\n",
       "  'token_str': ' hairs',\n",
       "  'sequence': 'the cat hairs cover the box'},\n",
       " {'score': 0.047108858823776245,\n",
       "  'token': 12137,\n",
       "  'token_str': ' ears',\n",
       "  'sequence': 'the cat ears cover the box'},\n",
       " {'score': 0.04659711569547653,\n",
       "  'token': 40844,\n",
       "  'token_str': ' paws',\n",
       "  'sequence': 'the cat paws cover the box'},\n",
       " {'score': 0.04262758791446686,\n",
       "  'token': 40,\n",
       "  'token_str': ' will',\n",
       "  'sequence': 'the cat will cover the box'},\n",
       " {'score': 0.03460776433348656,\n",
       "  'token': 9106,\n",
       "  'token_str': 'fish',\n",
       "  'sequence': 'the catfish cover the box'}]"
      ]
     },
     "execution_count": 1,
     "metadata": {},
     "output_type": "execute_result"
    }
   ],
   "source": [
    "from transformers import pipeline\n",
    "\n",
    "mlm  = pipeline(\"fill-mask\")\n",
    "mlm(\"the cat <mask> cover the box\")"
   ]
  },
  {
   "cell_type": "code",
   "execution_count": null,
   "metadata": {},
   "outputs": [],
   "source": [
    "# load data from kaggle\n",
    "# cd data\n",
    "# wget -nc https://lazyprogrammer.me/course_files/nlp/bbc_text_cls.csv"
   ]
  },
  {
   "cell_type": "code",
   "execution_count": 2,
   "metadata": {},
   "outputs": [],
   "source": [
    "from transformers import pipeline\n",
    "\n",
    "import numpy as np\n",
    "import pandas as pd\n",
    "import textwrap\n",
    "from pprint import pprint\n"
   ]
  },
  {
   "cell_type": "code",
   "execution_count": 3,
   "metadata": {},
   "outputs": [
    {
     "data": {
      "text/html": [
       "<div>\n",
       "<style scoped>\n",
       "    .dataframe tbody tr th:only-of-type {\n",
       "        vertical-align: middle;\n",
       "    }\n",
       "\n",
       "    .dataframe tbody tr th {\n",
       "        vertical-align: top;\n",
       "    }\n",
       "\n",
       "    .dataframe thead th {\n",
       "        text-align: right;\n",
       "    }\n",
       "</style>\n",
       "<table border=\"1\" class=\"dataframe\">\n",
       "  <thead>\n",
       "    <tr style=\"text-align: right;\">\n",
       "      <th></th>\n",
       "      <th>text</th>\n",
       "      <th>labels</th>\n",
       "    </tr>\n",
       "  </thead>\n",
       "  <tbody>\n",
       "    <tr>\n",
       "      <th>0</th>\n",
       "      <td>Ad sales boost Time Warner profit\\n\\nQuarterly...</td>\n",
       "      <td>business</td>\n",
       "    </tr>\n",
       "    <tr>\n",
       "      <th>1</th>\n",
       "      <td>Dollar gains on Greenspan speech\\n\\nThe dollar...</td>\n",
       "      <td>business</td>\n",
       "    </tr>\n",
       "    <tr>\n",
       "      <th>2</th>\n",
       "      <td>Yukos unit buyer faces loan claim\\n\\nThe owner...</td>\n",
       "      <td>business</td>\n",
       "    </tr>\n",
       "    <tr>\n",
       "      <th>3</th>\n",
       "      <td>High fuel prices hit BA's profits\\n\\nBritish A...</td>\n",
       "      <td>business</td>\n",
       "    </tr>\n",
       "    <tr>\n",
       "      <th>4</th>\n",
       "      <td>Pernod takeover talk lifts Domecq\\n\\nShares in...</td>\n",
       "      <td>business</td>\n",
       "    </tr>\n",
       "  </tbody>\n",
       "</table>\n",
       "</div>"
      ],
      "text/plain": [
       "                                                text    labels\n",
       "0  Ad sales boost Time Warner profit\\n\\nQuarterly...  business\n",
       "1  Dollar gains on Greenspan speech\\n\\nThe dollar...  business\n",
       "2  Yukos unit buyer faces loan claim\\n\\nThe owner...  business\n",
       "3  High fuel prices hit BA's profits\\n\\nBritish A...  business\n",
       "4  Pernod takeover talk lifts Domecq\\n\\nShares in...  business"
      ]
     },
     "execution_count": 3,
     "metadata": {},
     "output_type": "execute_result"
    }
   ],
   "source": [
    "df = pd.read_csv(\"data/bbc_text_cls.csv\")\n",
    "df.head()"
   ]
  },
  {
   "cell_type": "code",
   "execution_count": 4,
   "metadata": {},
   "outputs": [
    {
     "data": {
      "text/plain": [
       "sport            511\n",
       "business         510\n",
       "politics         417\n",
       "tech             401\n",
       "entertainment    386\n",
       "Name: labels, dtype: int64"
      ]
     },
     "execution_count": 4,
     "metadata": {},
     "output_type": "execute_result"
    }
   ],
   "source": [
    "df['labels'].value_counts()"
   ]
  },
  {
   "cell_type": "code",
   "execution_count": 5,
   "metadata": {},
   "outputs": [],
   "source": [
    "texts = df[df['labels'] == \"business\"]['text']"
   ]
  },
  {
   "cell_type": "code",
   "execution_count": 6,
   "metadata": {},
   "outputs": [
    {
     "name": "stdout",
     "output_type": "stream",
     "text": [
      "Bombardier chief to leave company\n",
      "\n",
      "Shares in train and plane-making\n",
      "giant Bombardier have fallen to a 10-year low following the departure\n",
      "of its chief executive and two members of the board.\n",
      "\n",
      "Paul Tellier,\n",
      "who was also Bombardier's president, left the company amid an ongoing\n",
      "restructuring.  Laurent Beaudoin, part of the family that controls the\n",
      "Montreal-based firm, will take on the role of CEO under a newly\n",
      "created management structure.  Analysts said the resignations seem to\n",
      "have stemmed from a boardroom dispute.  Under Mr Tellier's tenure at\n",
      "the company, which began in January 2003, plans to cut the worldwide\n",
      "workforce of 75,000 by almost a third by 2006 were announced.  The\n",
      "firm's snowmobile division and defence services unit were also sold\n",
      "and Bombardier started the development of a new aircraft seating 110\n",
      "to 135 passengers.\n",
      "\n",
      "Mr Tellier had indicated he wanted to stay at the\n",
      "world's top train maker and third largest manufacturer of civil\n",
      "aircraft until the restructuring was complete.  But Bombardier has\n",
      "been faced with a declining share price and profits.  Earlier this\n",
      "month the firm said it earned $10m (£19.2m) in the third quarter, down\n",
      "from a profit of $133m a year ago.  \"I understand the board's concern\n",
      "that I would not be there for the long-term and the need to develop\n",
      "and execute strategies, and the need to reshape the management\n",
      "structure at this time,\" Mr Tellier said in a statement on Monday.\n",
      "Bombardier said restructuring plans drawn up by Mr Tellier's would\n",
      "continue to be implemented.  Shares in Bombardier lost 65 Canadian\n",
      "cents or 25% on the news to 1.90 Canadian dollars before rallying to\n",
      "2.20 Canadian dollars.\n"
     ]
    }
   ],
   "source": [
    "# set the random seed\n",
    "np.random.seed(1234)\n",
    "\n",
    "#pick a random article\n",
    "i = np.random.choice(texts.shape[0])\n",
    "doc = texts.iloc[i]\n",
    "\n",
    "#print without \\n \n",
    "print(textwrap.fill(doc, replace_whitespace=False, fix_sentence_endings=True))"
   ]
  },
  {
   "cell_type": "code",
   "execution_count": 8,
   "metadata": {},
   "outputs": [
    {
     "name": "stderr",
     "output_type": "stream",
     "text": [
      "No model was supplied, defaulted to distilroberta-base and revision ec58a5b (https://huggingface.co/distilroberta-base).\n",
      "Using a pipeline without specifying a model name and revision in production is not recommended.\n"
     ]
    },
    {
     "name": "stdout",
     "output_type": "stream",
     "text": [
      "[{'score': 0.1785331517457962,\n",
      "  'sequence': 'Bombardier chief to leave company Shares in France and '\n",
      "              'plane-making giant Bombardier have fallen to a 10-year low '\n",
      "              'following the departure of its chief executive and two members '\n",
      "              'of the boar.',\n",
      "  'token': 1470,\n",
      "  'token_str': ' France'},\n",
      " {'score': 0.08695701509714127,\n",
      "  'sequence': 'Bombardier chief to leave company Shares in Brazil and '\n",
      "              'plane-making giant Bombardier have fallen to a 10-year low '\n",
      "              'following the departure of its chief executive and two members '\n",
      "              'of the boar.',\n",
      "  'token': 2910,\n",
      "  'token_str': ' Brazil'},\n",
      " {'score': 0.04276402294635773,\n",
      "  'sequence': 'Bombardier chief to leave company Shares in Italy and '\n",
      "              'plane-making giant Bombardier have fallen to a 10-year low '\n",
      "              'following the departure of its chief executive and two members '\n",
      "              'of the boar.',\n",
      "  'token': 2627,\n",
      "  'token_str': ' Italy'},\n",
      " {'score': 0.03989391773939133,\n",
      "  'sequence': 'Bombardier chief to leave company Shares in London and '\n",
      "              'plane-making giant Bombardier have fallen to a 10-year low '\n",
      "              'following the departure of its chief executive and two members '\n",
      "              'of the boar.',\n",
      "  'token': 928,\n",
      "  'token_str': ' London'},\n",
      " {'score': 0.038761064410209656,\n",
      "  'sequence': 'Bombardier chief to leave company Shares in Paris and '\n",
      "              'plane-making giant Bombardier have fallen to a 10-year low '\n",
      "              'following the departure of its chief executive and two members '\n",
      "              'of the boar.',\n",
      "  'token': 2201,\n",
      "  'token_str': ' Paris'}]\n"
     ]
    }
   ],
   "source": [
    "mlm = pipeline(\"fill-mask\")\n",
    "text = \"Bombardier chief to leave company \" + \\\n",
    "\"Shares in <mask> and plane-making \" + \\\n",
    "\"giant Bombardier have fallen to a 10-year low following the departure \" + \\\n",
    "\"of its chief executive and two members of the boar.\"\n",
    "\n",
    "pprint(mlm(text))"
   ]
  },
  {
   "cell_type": "code",
   "execution_count": 15,
   "metadata": {},
   "outputs": [
    {
     "name": "stderr",
     "output_type": "stream",
     "text": [
      "/Users/macbookpro/opt/anaconda3/lib/python3.9/site-packages/sklearn/utils/deprecation.py:87: FutureWarning: Function get_feature_names is deprecated; get_feature_names is deprecated in 1.0 and will be removed in 1.2. Please use get_feature_names_out instead.\n",
      "  warnings.warn(msg, category=FutureWarning)\n"
     ]
    },
    {
     "name": "stdout",
     "output_type": "stream",
     "text": [
      "'hello yassine this is <mask> boyfriend'\n",
      "[{'score': 0.6358757019042969,\n",
      "  'sequence': 'hello yassine this is my boyfriend',\n",
      "  'token': 127,\n",
      "  'token_str': ' my'},\n",
      " {'score': 0.16385287046432495,\n",
      "  'sequence': 'hello yassine this is your boyfriend',\n",
      "  'token': 110,\n",
      "  'token_str': ' your'},\n",
      " {'score': 0.0329616405069828,\n",
      "  'sequence': 'hello yassine this is MY boyfriend',\n",
      "  'token': 20060,\n",
      "  'token_str': ' MY'},\n",
      " {'score': 0.010770854540169239,\n",
      "  'sequence': 'hello yassine this is ur boyfriend',\n",
      "  'token': 11540,\n",
      "  'token_str': ' ur'},\n",
      " {'score': 0.009833130985498428,\n",
      "  'sequence': 'hello yassine this is her boyfriend',\n",
      "  'token': 69,\n",
      "  'token_str': ' her'}]\n"
     ]
    }
   ],
   "source": [
    "from sklearn.feature_extraction.text import TfidfVectorizer\n",
    "vectorizer = TfidfVectorizer()\n",
    "\n",
    "def replace_random_mask(doc : str): \n",
    "    # get import words in doc\n",
    "    X = vectorizer.fit_transform([doc])\n",
    "    words = vectorizer.get_feature_names()\n",
    "    i = np.random.choice(len(words))\n",
    "    word_to_replace = words[i]\n",
    "    return doc.replace(word_to_replace, \"<mask>\")\n",
    "    \n",
    "\n",
    "text_with_mask = replace_random_mask (\"hello yassine this is ur boyfriend\")\n",
    "pprint(text_with_mask)\n",
    "\n",
    "pprint(mlm(text_with_mask))\n"
   ]
  },
  {
   "cell_type": "code",
   "execution_count": 9,
   "metadata": {},
   "outputs": [
    {
     "data": {
      "text/plain": [
       "'hello yassine this is <mask> boyfriend'"
      ]
     },
     "execution_count": 9,
     "metadata": {},
     "output_type": "execute_result"
    }
   ],
   "source": [
    "\"hello yassine this is ur boyfriend\".replace(\"ur\", \"<mask>\")"
   ]
  },
  {
   "cell_type": "code",
   "execution_count": null,
   "metadata": {},
   "outputs": [],
   "source": []
  }
 ],
 "metadata": {
  "interpreter": {
   "hash": "e17245beed66d97676295f18f5af02f52c1ff0b20014505018e20bb50c7c46d6"
  },
  "kernelspec": {
   "display_name": "Python 3.9.7 ('base')",
   "language": "python",
   "name": "python3"
  },
  "language_info": {
   "codemirror_mode": {
    "name": "ipython",
    "version": 3
   },
   "file_extension": ".py",
   "mimetype": "text/x-python",
   "name": "python",
   "nbconvert_exporter": "python",
   "pygments_lexer": "ipython3",
   "version": "3.9.7"
  },
  "orig_nbformat": 4
 },
 "nbformat": 4,
 "nbformat_minor": 2
}
