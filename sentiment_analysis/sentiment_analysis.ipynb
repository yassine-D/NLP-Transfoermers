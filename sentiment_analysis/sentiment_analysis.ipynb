{
 "cells": [
  {
   "cell_type": "markdown",
   "metadata": {},
   "source": [
    "### Sentiment Analysis Pipeline using Transformers"
   ]
  },
  {
   "cell_type": "code",
   "execution_count": 1,
   "metadata": {},
   "outputs": [],
   "source": [
    "# Install Transformer\n",
    "# pip install transformers"
   ]
  },
  {
   "cell_type": "code",
   "execution_count": 2,
   "metadata": {},
   "outputs": [],
   "source": [
    "# Download the dataset\n",
    "# ! wget -nc https://lazyprogrammer.me/course_files/AirlineTweets.csv"
   ]
  },
  {
   "cell_type": "code",
   "execution_count": 3,
   "metadata": {},
   "outputs": [],
   "source": [
    "from transformers import pipeline\n",
    "\n",
    "import numpy as np\n",
    "import pandas as pd\n",
    "import seaborn as sn\n",
    "import matplotlib.pyplot as plt\n",
    "import pathlib\n",
    "\n",
    "from sklearn.metrics import roc_auc_score, f1_score, confusion_matrix\n",
    "from sklearn.model_selection import train_test_split"
   ]
  },
  {
   "cell_type": "code",
   "execution_count": 4,
   "metadata": {},
   "outputs": [],
   "source": [
    "HOME = pathlib.Path().home()\n",
    "CURRENT_DIR = pathlib.Path().absolute() \n",
    "DATA = str(CURRENT_DIR) + \"/data\""
   ]
  },
  {
   "cell_type": "code",
   "execution_count": 5,
   "metadata": {},
   "outputs": [
    {
     "name": "stderr",
     "output_type": "stream",
     "text": [
      "No model was supplied, defaulted to distilbert-base-uncased-finetuned-sst-2-english and revision af0f99b (https://huggingface.co/distilbert-base-uncased-finetuned-sst-2-english).\n",
      "Using a pipeline without specifying a model name and revision in production is not recommended.\n"
     ]
    },
    {
     "name": "stdout",
     "output_type": "stream",
     "text": [
      "[{'label': 'NEGATIVE', 'score': 0.9917254447937012}, {'label': 'NEGATIVE', 'score': 0.9997909665107727}, {'label': 'POSITIVE', 'score': 0.9996663331985474}]\n"
     ]
    }
   ],
   "source": [
    "#basic usage of Transformers\n",
    "\n",
    "feedbacks = [\"I can't say this is a good movie\", \\\n",
    "    \"this a bad one\", \\\n",
    "        \"I actually like the movie\"]\n",
    "\n",
    "#create pipeline\n",
    "Classifier = pipeline(\"sentiment-analysis\")\n",
    "\n",
    "#preforming sentiment analysis on raw text\n",
    "print(Classifier(feedbacks))"
   ]
  },
  {
   "cell_type": "code",
   "execution_count": 6,
   "metadata": {},
   "outputs": [],
   "source": [
    "import torch"
   ]
  },
  {
   "cell_type": "code",
   "execution_count": 7,
   "metadata": {},
   "outputs": [
    {
     "name": "stdout",
     "output_type": "stream",
     "text": [
      " GPU is available:False\n"
     ]
    }
   ],
   "source": [
    "import torch\n",
    "\n",
    "# check if GPU is available on machine\n",
    "print(f\" GPU is available:{torch.cuda.is_available()}\")\n",
    "\n",
    "# check which GPU device\n",
    "# print(f\" GPU is available:{torch.cuda.current_device()}\")\n"
   ]
  },
  {
   "cell_type": "code",
   "execution_count": 8,
   "metadata": {},
   "outputs": [
    {
     "data": {
      "text/html": [
       "<div>\n",
       "<style scoped>\n",
       "    .dataframe tbody tr th:only-of-type {\n",
       "        vertical-align: middle;\n",
       "    }\n",
       "\n",
       "    .dataframe tbody tr th {\n",
       "        vertical-align: top;\n",
       "    }\n",
       "\n",
       "    .dataframe thead th {\n",
       "        text-align: right;\n",
       "    }\n",
       "</style>\n",
       "<table border=\"1\" class=\"dataframe\">\n",
       "  <thead>\n",
       "    <tr style=\"text-align: right;\">\n",
       "      <th></th>\n",
       "      <th>tweet_id</th>\n",
       "      <th>airline_sentiment</th>\n",
       "      <th>airline_sentiment_confidence</th>\n",
       "      <th>negativereason</th>\n",
       "      <th>negativereason_confidence</th>\n",
       "      <th>airline</th>\n",
       "      <th>airline_sentiment_gold</th>\n",
       "      <th>name</th>\n",
       "      <th>negativereason_gold</th>\n",
       "      <th>retweet_count</th>\n",
       "      <th>text</th>\n",
       "      <th>tweet_coord</th>\n",
       "      <th>tweet_created</th>\n",
       "      <th>tweet_location</th>\n",
       "      <th>user_timezone</th>\n",
       "    </tr>\n",
       "  </thead>\n",
       "  <tbody>\n",
       "    <tr>\n",
       "      <th>0</th>\n",
       "      <td>570306133677760513</td>\n",
       "      <td>neutral</td>\n",
       "      <td>1.0000</td>\n",
       "      <td>NaN</td>\n",
       "      <td>NaN</td>\n",
       "      <td>Virgin America</td>\n",
       "      <td>NaN</td>\n",
       "      <td>cairdin</td>\n",
       "      <td>NaN</td>\n",
       "      <td>0</td>\n",
       "      <td>@VirginAmerica What @dhepburn said.</td>\n",
       "      <td>NaN</td>\n",
       "      <td>2015-02-24 11:35:52 -0800</td>\n",
       "      <td>NaN</td>\n",
       "      <td>Eastern Time (US &amp; Canada)</td>\n",
       "    </tr>\n",
       "    <tr>\n",
       "      <th>1</th>\n",
       "      <td>570301130888122368</td>\n",
       "      <td>positive</td>\n",
       "      <td>0.3486</td>\n",
       "      <td>NaN</td>\n",
       "      <td>0.0000</td>\n",
       "      <td>Virgin America</td>\n",
       "      <td>NaN</td>\n",
       "      <td>jnardino</td>\n",
       "      <td>NaN</td>\n",
       "      <td>0</td>\n",
       "      <td>@VirginAmerica plus you've added commercials t...</td>\n",
       "      <td>NaN</td>\n",
       "      <td>2015-02-24 11:15:59 -0800</td>\n",
       "      <td>NaN</td>\n",
       "      <td>Pacific Time (US &amp; Canada)</td>\n",
       "    </tr>\n",
       "    <tr>\n",
       "      <th>2</th>\n",
       "      <td>570301083672813571</td>\n",
       "      <td>neutral</td>\n",
       "      <td>0.6837</td>\n",
       "      <td>NaN</td>\n",
       "      <td>NaN</td>\n",
       "      <td>Virgin America</td>\n",
       "      <td>NaN</td>\n",
       "      <td>yvonnalynn</td>\n",
       "      <td>NaN</td>\n",
       "      <td>0</td>\n",
       "      <td>@VirginAmerica I didn't today... Must mean I n...</td>\n",
       "      <td>NaN</td>\n",
       "      <td>2015-02-24 11:15:48 -0800</td>\n",
       "      <td>Lets Play</td>\n",
       "      <td>Central Time (US &amp; Canada)</td>\n",
       "    </tr>\n",
       "    <tr>\n",
       "      <th>3</th>\n",
       "      <td>570301031407624196</td>\n",
       "      <td>negative</td>\n",
       "      <td>1.0000</td>\n",
       "      <td>Bad Flight</td>\n",
       "      <td>0.7033</td>\n",
       "      <td>Virgin America</td>\n",
       "      <td>NaN</td>\n",
       "      <td>jnardino</td>\n",
       "      <td>NaN</td>\n",
       "      <td>0</td>\n",
       "      <td>@VirginAmerica it's really aggressive to blast...</td>\n",
       "      <td>NaN</td>\n",
       "      <td>2015-02-24 11:15:36 -0800</td>\n",
       "      <td>NaN</td>\n",
       "      <td>Pacific Time (US &amp; Canada)</td>\n",
       "    </tr>\n",
       "    <tr>\n",
       "      <th>4</th>\n",
       "      <td>570300817074462722</td>\n",
       "      <td>negative</td>\n",
       "      <td>1.0000</td>\n",
       "      <td>Can't Tell</td>\n",
       "      <td>1.0000</td>\n",
       "      <td>Virgin America</td>\n",
       "      <td>NaN</td>\n",
       "      <td>jnardino</td>\n",
       "      <td>NaN</td>\n",
       "      <td>0</td>\n",
       "      <td>@VirginAmerica and it's a really big bad thing...</td>\n",
       "      <td>NaN</td>\n",
       "      <td>2015-02-24 11:14:45 -0800</td>\n",
       "      <td>NaN</td>\n",
       "      <td>Pacific Time (US &amp; Canada)</td>\n",
       "    </tr>\n",
       "  </tbody>\n",
       "</table>\n",
       "</div>"
      ],
      "text/plain": [
       "             tweet_id airline_sentiment  airline_sentiment_confidence  \\\n",
       "0  570306133677760513           neutral                        1.0000   \n",
       "1  570301130888122368          positive                        0.3486   \n",
       "2  570301083672813571           neutral                        0.6837   \n",
       "3  570301031407624196          negative                        1.0000   \n",
       "4  570300817074462722          negative                        1.0000   \n",
       "\n",
       "  negativereason  negativereason_confidence         airline  \\\n",
       "0            NaN                        NaN  Virgin America   \n",
       "1            NaN                     0.0000  Virgin America   \n",
       "2            NaN                        NaN  Virgin America   \n",
       "3     Bad Flight                     0.7033  Virgin America   \n",
       "4     Can't Tell                     1.0000  Virgin America   \n",
       "\n",
       "  airline_sentiment_gold        name negativereason_gold  retweet_count  \\\n",
       "0                    NaN     cairdin                 NaN              0   \n",
       "1                    NaN    jnardino                 NaN              0   \n",
       "2                    NaN  yvonnalynn                 NaN              0   \n",
       "3                    NaN    jnardino                 NaN              0   \n",
       "4                    NaN    jnardino                 NaN              0   \n",
       "\n",
       "                                                text tweet_coord  \\\n",
       "0                @VirginAmerica What @dhepburn said.         NaN   \n",
       "1  @VirginAmerica plus you've added commercials t...         NaN   \n",
       "2  @VirginAmerica I didn't today... Must mean I n...         NaN   \n",
       "3  @VirginAmerica it's really aggressive to blast...         NaN   \n",
       "4  @VirginAmerica and it's a really big bad thing...         NaN   \n",
       "\n",
       "               tweet_created tweet_location               user_timezone  \n",
       "0  2015-02-24 11:35:52 -0800            NaN  Eastern Time (US & Canada)  \n",
       "1  2015-02-24 11:15:59 -0800            NaN  Pacific Time (US & Canada)  \n",
       "2  2015-02-24 11:15:48 -0800      Lets Play  Central Time (US & Canada)  \n",
       "3  2015-02-24 11:15:36 -0800            NaN  Pacific Time (US & Canada)  \n",
       "4  2015-02-24 11:14:45 -0800            NaN  Pacific Time (US & Canada)  "
      ]
     },
     "execution_count": 8,
     "metadata": {},
     "output_type": "execute_result"
    }
   ],
   "source": [
    "df = pd.read_csv(DATA + \"/AirlineTweets.csv\") \n",
    "df.head()"
   ]
  },
  {
   "cell_type": "code",
   "execution_count": 9,
   "metadata": {},
   "outputs": [
    {
     "data": {
      "text/plain": [
       "<AxesSubplot:>"
      ]
     },
     "execution_count": 9,
     "metadata": {},
     "output_type": "execute_result"
    },
    {
     "data": {
      "image/png": "[encoded data removed]",
      "text/plain": [
       "<Figure size 432x288 with 1 Axes>"
      ]
     },
     "metadata": {
      "needs_background": "light"
     },
     "output_type": "display_data"
    }
   ],
   "source": [
    "df = df[['text', 'airline_sentiment']].copy()\n",
    "df['airline_sentiment'].hist()"
   ]
  },
  {
   "cell_type": "markdown",
   "metadata": {},
   "source": [
    "3 classes to predict :multi classification problem\n",
    "imbalenced data set : negative texts are over presented compared to the other two classes"
   ]
  },
  {
   "cell_type": "code",
   "execution_count": 10,
   "metadata": {},
   "outputs": [],
   "source": [
    "# filter out neutral classes because our pre trained model only predict positive or negative\n",
    "df = df[df[\"airline_sentiment\"] != \"neutral\"]\n",
    "\n",
    "#encode classes\n",
    "target_map = {'positive' : 1,\\\n",
    "     'negative' :  0}\n",
    "df['target'] = df[\"airline_sentiment\"].map(target_map)"
   ]
  },
  {
   "cell_type": "code",
   "execution_count": 11,
   "metadata": {},
   "outputs": [
    {
     "data": {
      "text/html": [
       "<div>\n",
       "<style scoped>\n",
       "    .dataframe tbody tr th:only-of-type {\n",
       "        vertical-align: middle;\n",
       "    }\n",
       "\n",
       "    .dataframe tbody tr th {\n",
       "        vertical-align: top;\n",
       "    }\n",
       "\n",
       "    .dataframe thead th {\n",
       "        text-align: right;\n",
       "    }\n",
       "</style>\n",
       "<table border=\"1\" class=\"dataframe\">\n",
       "  <thead>\n",
       "    <tr style=\"text-align: right;\">\n",
       "      <th></th>\n",
       "      <th>text</th>\n",
       "      <th>airline_sentiment</th>\n",
       "      <th>target</th>\n",
       "    </tr>\n",
       "  </thead>\n",
       "  <tbody>\n",
       "    <tr>\n",
       "      <th>1</th>\n",
       "      <td>@VirginAmerica plus you've added commercials t...</td>\n",
       "      <td>positive</td>\n",
       "      <td>1</td>\n",
       "    </tr>\n",
       "    <tr>\n",
       "      <th>3</th>\n",
       "      <td>@VirginAmerica it's really aggressive to blast...</td>\n",
       "      <td>negative</td>\n",
       "      <td>0</td>\n",
       "    </tr>\n",
       "    <tr>\n",
       "      <th>4</th>\n",
       "      <td>@VirginAmerica and it's a really big bad thing...</td>\n",
       "      <td>negative</td>\n",
       "      <td>0</td>\n",
       "    </tr>\n",
       "    <tr>\n",
       "      <th>5</th>\n",
       "      <td>@VirginAmerica seriously would pay $30 a fligh...</td>\n",
       "      <td>negative</td>\n",
       "      <td>0</td>\n",
       "    </tr>\n",
       "    <tr>\n",
       "      <th>6</th>\n",
       "      <td>@VirginAmerica yes, nearly every time I fly VX...</td>\n",
       "      <td>positive</td>\n",
       "      <td>1</td>\n",
       "    </tr>\n",
       "  </tbody>\n",
       "</table>\n",
       "</div>"
      ],
      "text/plain": [
       "                                                text airline_sentiment  target\n",
       "1  @VirginAmerica plus you've added commercials t...          positive       1\n",
       "3  @VirginAmerica it's really aggressive to blast...          negative       0\n",
       "4  @VirginAmerica and it's a really big bad thing...          negative       0\n",
       "5  @VirginAmerica seriously would pay $30 a fligh...          negative       0\n",
       "6  @VirginAmerica yes, nearly every time I fly VX...          positive       1"
      ]
     },
     "metadata": {},
     "output_type": "display_data"
    },
    {
     "name": "stdout",
     "output_type": "stream",
     "text": [
      " number of rows: 11541\n"
     ]
    }
   ],
   "source": [
    "display(df.head())\n",
    "print(f\" number of rows: {len(df)}\")"
   ]
  },
  {
   "cell_type": "code",
   "execution_count": 12,
   "metadata": {},
   "outputs": [],
   "source": [
    "predictions = Classifier(list(df['text'].iloc[0:100]))"
   ]
  },
  {
   "cell_type": "code",
   "execution_count": 13,
   "metadata": {},
   "outputs": [],
   "source": [
    "# list(df['text'].iloc[0:100])"
   ]
  },
  {
   "cell_type": "code",
   "execution_count": 14,
   "metadata": {},
   "outputs": [
    {
     "data": {
      "text/plain": [
       "[{'label': 'POSITIVE', 'score': 0.6070870757102966},\n",
       " {'label': 'NEGATIVE', 'score': 0.9973449110984802},\n",
       " {'label': 'NEGATIVE', 'score': 0.9995823502540588},\n",
       " {'label': 'NEGATIVE', 'score': 0.9854251742362976},\n",
       " {'label': 'POSITIVE', 'score': 0.9553210139274597},\n",
       " {'label': 'POSITIVE', 'score': 0.9827088117599487},\n",
       " {'label': 'POSITIVE', 'score': 0.9994851350784302},\n",
       " {'label': 'POSITIVE', 'score': 0.9993509650230408},\n",
       " {'label': 'POSITIVE', 'score': 0.9940821528434753},\n",
       " {'label': 'POSITIVE', 'score': 0.9863133430480957},\n",
       " {'label': 'POSITIVE', 'score': 0.9996304512023926},\n",
       " {'label': 'NEGATIVE', 'score': 0.9980512857437134},\n",
       " {'label': 'POSITIVE', 'score': 0.9964436888694763},\n",
       " {'label': 'NEGATIVE', 'score': 0.9968666434288025},\n",
       " {'label': 'POSITIVE', 'score': 0.9787647724151611},\n",
       " {'label': 'POSITIVE', 'score': 0.9995218515396118},\n",
       " {'label': 'NEGATIVE', 'score': 0.9954516291618347},\n",
       " {'label': 'POSITIVE', 'score': 0.9995624423027039},\n",
       " {'label': 'POSITIVE', 'score': 0.9998748302459717},\n",
       " {'label': 'NEGATIVE', 'score': 0.9951193332672119},\n",
       " {'label': 'NEGATIVE', 'score': 0.9995952248573303},\n",
       " {'label': 'NEGATIVE', 'score': 0.9993677735328674},\n",
       " {'label': 'NEGATIVE', 'score': 0.9845718145370483},\n",
       " {'label': 'NEGATIVE', 'score': 0.9817190766334534},\n",
       " {'label': 'NEGATIVE', 'score': 0.9995517134666443},\n",
       " {'label': 'NEGATIVE', 'score': 0.9976251721382141},\n",
       " {'label': 'POSITIVE', 'score': 0.9934480786323547},\n",
       " {'label': 'POSITIVE', 'score': 0.9976067543029785},\n",
       " {'label': 'POSITIVE', 'score': 0.8661724328994751},\n",
       " {'label': 'NEGATIVE', 'score': 0.9996762275695801},\n",
       " {'label': 'POSITIVE', 'score': 0.841560959815979},\n",
       " {'label': 'NEGATIVE', 'score': 0.9967682361602783},\n",
       " {'label': 'POSITIVE', 'score': 0.9997846484184265},\n",
       " {'label': 'NEGATIVE', 'score': 0.8238542675971985},\n",
       " {'label': 'POSITIVE', 'score': 0.9993895292282104},\n",
       " {'label': 'NEGATIVE', 'score': 0.9084339141845703},\n",
       " {'label': 'NEGATIVE', 'score': 0.9951382875442505},\n",
       " {'label': 'POSITIVE', 'score': 0.9997820258140564},\n",
       " {'label': 'NEGATIVE', 'score': 0.9985764026641846},\n",
       " {'label': 'NEGATIVE', 'score': 0.995326042175293},\n",
       " {'label': 'NEGATIVE', 'score': 0.9953575730323792},\n",
       " {'label': 'NEGATIVE', 'score': 0.9809589982032776},\n",
       " {'label': 'POSITIVE', 'score': 0.9911696910858154},\n",
       " {'label': 'NEGATIVE', 'score': 0.9874495267868042},\n",
       " {'label': 'NEGATIVE', 'score': 0.9919006824493408},\n",
       " {'label': 'POSITIVE', 'score': 0.9994875192642212},\n",
       " {'label': 'POSITIVE', 'score': 0.9327107071876526},\n",
       " {'label': 'NEGATIVE', 'score': 0.9607422947883606},\n",
       " {'label': 'NEGATIVE', 'score': 0.9946909546852112},\n",
       " {'label': 'POSITIVE', 'score': 0.7814912796020508},\n",
       " {'label': 'POSITIVE', 'score': 0.9995588660240173},\n",
       " {'label': 'NEGATIVE', 'score': 0.9996135830879211},\n",
       " {'label': 'NEGATIVE', 'score': 0.9964356422424316},\n",
       " {'label': 'NEGATIVE', 'score': 0.9983514547348022},\n",
       " {'label': 'NEGATIVE', 'score': 0.9997578263282776},\n",
       " {'label': 'NEGATIVE', 'score': 0.9969521760940552},\n",
       " {'label': 'NEGATIVE', 'score': 0.9992448091506958},\n",
       " {'label': 'NEGATIVE', 'score': 0.9997953772544861},\n",
       " {'label': 'NEGATIVE', 'score': 0.9996330738067627},\n",
       " {'label': 'NEGATIVE', 'score': 0.9994520545005798},\n",
       " {'label': 'NEGATIVE', 'score': 0.9991872906684875},\n",
       " {'label': 'NEGATIVE', 'score': 0.9997692704200745},\n",
       " {'label': 'NEGATIVE', 'score': 0.9997703433036804},\n",
       " {'label': 'NEGATIVE', 'score': 0.8970157504081726},\n",
       " {'label': 'NEGATIVE', 'score': 0.9054797291755676},\n",
       " {'label': 'POSITIVE', 'score': 0.9998458623886108},\n",
       " {'label': 'POSITIVE', 'score': 0.9991962313652039},\n",
       " {'label': 'NEGATIVE', 'score': 0.9986805319786072},\n",
       " {'label': 'NEGATIVE', 'score': 0.8311478495597839},\n",
       " {'label': 'NEGATIVE', 'score': 0.7618747353553772},\n",
       " {'label': 'POSITIVE', 'score': 0.9944596290588379},\n",
       " {'label': 'NEGATIVE', 'score': 0.9948430061340332},\n",
       " {'label': 'NEGATIVE', 'score': 0.9971551895141602},\n",
       " {'label': 'POSITIVE', 'score': 0.9998231530189514},\n",
       " {'label': 'POSITIVE', 'score': 0.9997099041938782},\n",
       " {'label': 'POSITIVE', 'score': 0.996866762638092},\n",
       " {'label': 'POSITIVE', 'score': 0.9997057318687439},\n",
       " {'label': 'NEGATIVE', 'score': 0.9987350106239319},\n",
       " {'label': 'NEGATIVE', 'score': 0.9997817873954773},\n",
       " {'label': 'NEGATIVE', 'score': 0.9993529915809631},\n",
       " {'label': 'POSITIVE', 'score': 0.9998396635055542},\n",
       " {'label': 'POSITIVE', 'score': 0.9998757839202881},\n",
       " {'label': 'NEGATIVE', 'score': 0.9926002025604248},\n",
       " {'label': 'POSITIVE', 'score': 0.998897910118103},\n",
       " {'label': 'NEGATIVE', 'score': 0.999751627445221},\n",
       " {'label': 'NEGATIVE', 'score': 0.9996337890625},\n",
       " {'label': 'NEGATIVE', 'score': 0.9992284774780273},\n",
       " {'label': 'NEGATIVE', 'score': 0.997455894947052},\n",
       " {'label': 'NEGATIVE', 'score': 0.9996596574783325},\n",
       " {'label': 'POSITIVE', 'score': 0.9994229078292847},\n",
       " {'label': 'POSITIVE', 'score': 0.9981597065925598},\n",
       " {'label': 'NEGATIVE', 'score': 0.9993283748626709},\n",
       " {'label': 'NEGATIVE', 'score': 0.9996140599250793},\n",
       " {'label': 'POSITIVE', 'score': 0.999186098575592},\n",
       " {'label': 'NEGATIVE', 'score': 0.9638660550117493},\n",
       " {'label': 'POSITIVE', 'score': 0.9996715784072876},\n",
       " {'label': 'NEGATIVE', 'score': 0.9969021081924438},\n",
       " {'label': 'NEGATIVE', 'score': 0.5200213193893433},\n",
       " {'label': 'POSITIVE', 'score': 0.999839186668396},\n",
       " {'label': 'POSITIVE', 'score': 0.9719913601875305}]"
      ]
     },
     "execution_count": 14,
     "metadata": {},
     "output_type": "execute_result"
    }
   ],
   "source": [
    "predictions "
   ]
  },
  {
   "cell_type": "markdown",
   "metadata": {},
   "source": [
    "#### Computing AUC"
   ]
  },
  {
   "cell_type": "code",
   "execution_count": 15,
   "metadata": {},
   "outputs": [
    {
     "data": {
      "text/html": [
       "<div>\n",
       "<style scoped>\n",
       "    .dataframe tbody tr th:only-of-type {\n",
       "        vertical-align: middle;\n",
       "    }\n",
       "\n",
       "    .dataframe tbody tr th {\n",
       "        vertical-align: top;\n",
       "    }\n",
       "\n",
       "    .dataframe thead th {\n",
       "        text-align: right;\n",
       "    }\n",
       "</style>\n",
       "<table border=\"1\" class=\"dataframe\">\n",
       "  <thead>\n",
       "    <tr style=\"text-align: right;\">\n",
       "      <th></th>\n",
       "      <th>text</th>\n",
       "      <th>airline_sentiment</th>\n",
       "      <th>target</th>\n",
       "    </tr>\n",
       "  </thead>\n",
       "  <tbody>\n",
       "    <tr>\n",
       "      <th>1</th>\n",
       "      <td>@VirginAmerica plus you've added commercials t...</td>\n",
       "      <td>positive</td>\n",
       "      <td>1</td>\n",
       "    </tr>\n",
       "    <tr>\n",
       "      <th>3</th>\n",
       "      <td>@VirginAmerica it's really aggressive to blast...</td>\n",
       "      <td>negative</td>\n",
       "      <td>0</td>\n",
       "    </tr>\n",
       "    <tr>\n",
       "      <th>4</th>\n",
       "      <td>@VirginAmerica and it's a really big bad thing...</td>\n",
       "      <td>negative</td>\n",
       "      <td>0</td>\n",
       "    </tr>\n",
       "    <tr>\n",
       "      <th>5</th>\n",
       "      <td>@VirginAmerica seriously would pay $30 a fligh...</td>\n",
       "      <td>negative</td>\n",
       "      <td>0</td>\n",
       "    </tr>\n",
       "    <tr>\n",
       "      <th>6</th>\n",
       "      <td>@VirginAmerica yes, nearly every time I fly VX...</td>\n",
       "      <td>positive</td>\n",
       "      <td>1</td>\n",
       "    </tr>\n",
       "    <tr>\n",
       "      <th>...</th>\n",
       "      <td>...</td>\n",
       "      <td>...</td>\n",
       "      <td>...</td>\n",
       "    </tr>\n",
       "    <tr>\n",
       "      <th>144</th>\n",
       "      <td>@VirginAmerica you have amazing staff &amp;amp; su...</td>\n",
       "      <td>positive</td>\n",
       "      <td>1</td>\n",
       "    </tr>\n",
       "    <tr>\n",
       "      <th>145</th>\n",
       "      <td>@VirginAmerica I paid the premium to fly you a...</td>\n",
       "      <td>negative</td>\n",
       "      <td>0</td>\n",
       "    </tr>\n",
       "    <tr>\n",
       "      <th>146</th>\n",
       "      <td>@VirginAmerica question: is it not possible to...</td>\n",
       "      <td>negative</td>\n",
       "      <td>0</td>\n",
       "    </tr>\n",
       "    <tr>\n",
       "      <th>147</th>\n",
       "      <td>Always have it together!!! You're welcome! RT ...</td>\n",
       "      <td>positive</td>\n",
       "      <td>1</td>\n",
       "    </tr>\n",
       "    <tr>\n",
       "      <th>148</th>\n",
       "      <td>@virginamerica #flight home to #dc #sunset #gl...</td>\n",
       "      <td>positive</td>\n",
       "      <td>1</td>\n",
       "    </tr>\n",
       "  </tbody>\n",
       "</table>\n",
       "<p>100 rows × 3 columns</p>\n",
       "</div>"
      ],
      "text/plain": [
       "                                                  text airline_sentiment  \\\n",
       "1    @VirginAmerica plus you've added commercials t...          positive   \n",
       "3    @VirginAmerica it's really aggressive to blast...          negative   \n",
       "4    @VirginAmerica and it's a really big bad thing...          negative   \n",
       "5    @VirginAmerica seriously would pay $30 a fligh...          negative   \n",
       "6    @VirginAmerica yes, nearly every time I fly VX...          positive   \n",
       "..                                                 ...               ...   \n",
       "144  @VirginAmerica you have amazing staff &amp; su...          positive   \n",
       "145  @VirginAmerica I paid the premium to fly you a...          negative   \n",
       "146  @VirginAmerica question: is it not possible to...          negative   \n",
       "147  Always have it together!!! You're welcome! RT ...          positive   \n",
       "148  @virginamerica #flight home to #dc #sunset #gl...          positive   \n",
       "\n",
       "     target  \n",
       "1         1  \n",
       "3         0  \n",
       "4         0  \n",
       "5         0  \n",
       "6         1  \n",
       "..      ...  \n",
       "144       1  \n",
       "145       0  \n",
       "146       0  \n",
       "147       1  \n",
       "148       1  \n",
       "\n",
       "[100 rows x 3 columns]"
      ]
     },
     "execution_count": 15,
     "metadata": {},
     "output_type": "execute_result"
    }
   ],
   "source": [
    "# computing probabily of positive feedbacks\n",
    "df_sample = df.iloc[0:100]\n",
    "df_sample "
   ]
  },
  {
   "cell_type": "code",
   "execution_count": 16,
   "metadata": {},
   "outputs": [
    {
     "name": "stdout",
     "output_type": "stream",
     "text": [
      "acc: 0.92\n"
     ]
    }
   ],
   "source": [
    "#Compute accuracy\n",
    "probs = [d[\"score\"] if d[\"label\"].startswith('P') else 1 - d[\"score\"] for d in predictions]\n",
    "\n",
    "preds = np.array([ 1 if d[\"label\"].startswith(\"P\") else 0 for d in predictions ])\n",
    "\n",
    "accuracy = np.mean(df_sample[\"target\"] == preds)\n",
    "\n",
    "print(f\"acc: {accuracy}\")"
   ]
  },
  {
   "cell_type": "code",
   "execution_count": 17,
   "metadata": {},
   "outputs": [
    {
     "data": {
      "text/plain": [
       "array([[0.96363636, 0.03636364],\n",
       "       [0.13333333, 0.86666667]])"
      ]
     },
     "execution_count": 17,
     "metadata": {},
     "output_type": "execute_result"
    }
   ],
   "source": [
    "#confusion matrix\n",
    "cm = confusion_matrix(df_sample['target'] ,  preds, normalize = \"true\")\n",
    "cm"
   ]
  },
  {
   "cell_type": "code",
   "execution_count": 20,
   "metadata": {},
   "outputs": [],
   "source": [
    "def plot_cm(cm):\n",
    "    classes =[\"negative\", \"positive\"]\n",
    "    df_cm = pd.DataFrame(cm, index=classes , columns=classes)\n",
    "    ax = sn.heatmap(df_cm , annot= True, fmt='g')\n",
    "    ax.set_xlabel(\"Predicted\")\n",
    "    ax.set_ylabel(\"Traget\")\n"
   ]
  },
  {
   "cell_type": "code",
   "execution_count": 21,
   "metadata": {},
   "outputs": [
    {
     "data": {
      "image/png": "[encoded data removed]",
      "text/plain": [
       "<Figure size 432x288 with 2 Axes>"
      ]
     },
     "metadata": {
      "needs_background": "light"
     },
     "output_type": "display_data"
    }
   ],
   "source": [
    "plot_cm(cm)"
   ]
  },
  {
   "cell_type": "code",
   "execution_count": 26,
   "metadata": {},
   "outputs": [
    {
     "data": {
      "text/plain": [
       "0.9069767441860465"
      ]
     },
     "metadata": {},
     "output_type": "display_data"
    },
    {
     "data": {
      "text/plain": [
       "0.9298245614035089"
      ]
     },
     "metadata": {},
     "output_type": "display_data"
    }
   ],
   "source": [
    "# Computing metrics\n",
    "display (f1_score(df_sample['target'] , preds))\n",
    "display(f1_score(1 - df_sample['target'] , 1 - preds))"
   ]
  },
  {
   "cell_type": "code",
   "execution_count": 27,
   "metadata": {},
   "outputs": [
    {
     "data": {
      "text/plain": [
       "0.9151515151515152"
      ]
     },
     "metadata": {},
     "output_type": "display_data"
    },
    {
     "data": {
      "text/plain": [
       "0.9151515151515152"
      ]
     },
     "metadata": {},
     "output_type": "display_data"
    }
   ],
   "source": [
    "display(roc_auc_score(df_sample[\"target\"] , preds))\n",
    "display(roc_auc_score(1 - df_sample[\"target\"] ,1 - preds))"
   ]
  }
 ],
 "metadata": {
  "interpreter": {
   "hash": "e17245beed66d97676295f18f5af02f52c1ff0b20014505018e20bb50c7c46d6"
  },
  "kernelspec": {
   "display_name": "Python 3.9.7 ('base')",
   "language": "python",
   "name": "python3"
  },
  "language_info": {
   "codemirror_mode": {
    "name": "ipython",
    "version": 3
   },
   "file_extension": ".py",
   "mimetype": "text/x-python",
   "name": "python",
   "nbconvert_exporter": "python",
   "pygments_lexer": "ipython3",
   "version": "3.9.7"
  },
  "orig_nbformat": 4
 },
 "nbformat": 4,
 "nbformat_minor": 2
}
