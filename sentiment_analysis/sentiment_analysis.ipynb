{
 "cells": [
  {
   "cell_type": "markdown",
   "metadata": {},
   "source": [
    "### Sentiment Analysis Pipeline using Transformers"
   ]
  },
  {
   "cell_type": "code",
   "execution_count": 1,
   "metadata": {},
   "outputs": [],
   "source": [
    "# Install Transformer\n",
    "# pip install transformers"
   ]
  },
  {
   "cell_type": "code",
   "execution_count": 2,
   "metadata": {},
   "outputs": [],
   "source": [
    "# Download the dataset\n",
    "# ! wget -nc https://lazyprogrammer.me/course_files/AirlineTweets.csv"
   ]
  },
  {
   "cell_type": "code",
   "execution_count": 3,
   "metadata": {},
   "outputs": [],
   "source": [
    "from transformers import pipeline\n",
    "\n",
    "import numpy as np\n",
    "import pandas as pd\n",
    "import seaborn as sn\n",
    "import matplotlib.pyplot as plt\n",
    "import pathlib\n",
    "\n",
    "from sklearn.metrics import roc_auc_score, f1_score, confusion_matrix\n",
    "from sklearn.model_selection import train_test_split"
   ]
  },
  {
   "cell_type": "code",
   "execution_count": 4,
   "metadata": {},
   "outputs": [],
   "source": [
    "HOME = pathlib.Path().home()\n",
    "CURRENT_DIR = pathlib.Path().absolute() \n",
    "DATA = str(CURRENT_DIR) + \"/data\""
   ]
  },
  {
   "cell_type": "code",
   "execution_count": 5,
   "metadata": {},
   "outputs": [
    {
     "name": "stderr",
     "output_type": "stream",
     "text": [
      "No model was supplied, defaulted to distilbert-base-uncased-finetuned-sst-2-english and revision af0f99b (https://huggingface.co/distilbert-base-uncased-finetuned-sst-2-english).\n",
      "Using a pipeline without specifying a model name and revision in production is not recommended.\n"
     ]
    },
    {
     "name": "stdout",
     "output_type": "stream",
     "text": [
      "[{'label': 'NEGATIVE', 'score': 0.9917254447937012}, {'label': 'NEGATIVE', 'score': 0.9997909665107727}, {'label': 'POSITIVE', 'score': 0.9996663331985474}]\n"
     ]
    }
   ],
   "source": [
    "#basic usage of Transformers\n",
    "\n",
    "feedbacks = [\"I can't say this is a good movie\", \\\n",
    "    \"this a bad one\", \\\n",
    "        \"I actually like the movie\"]\n",
    "\n",
    "#create pipeline\n",
    "Classifier = pipeline(\"sentiment-analysis\")\n",
    "\n",
    "#preforming sentiment analysis on raw text\n",
    "print(Classifier(feedbacks))"
   ]
  },
  {
   "cell_type": "code",
   "execution_count": 6,
   "metadata": {},
   "outputs": [],
   "source": [
    "import torch"
   ]
  },
  {
   "cell_type": "code",
   "execution_count": 7,
   "metadata": {},
   "outputs": [
    {
     "name": "stdout",
     "output_type": "stream",
     "text": [
      " GPU is available:False\n"
     ]
    }
   ],
   "source": [
    "import torch\n",
    "\n",
    "# check if GPU is available on machine\n",
    "print(f\" GPU is available:{torch.cuda.is_available()}\")\n",
    "\n",
    "# check which GPU device\n",
    "# print(f\" GPU is available:{torch.cuda.current_device()}\")\n"
   ]
  },
  {
   "cell_type": "code",
   "execution_count": 8,
   "metadata": {},
   "outputs": [
    {
     "data": {
      "text/html": [
       "<div>\n",
       "<style scoped>\n",
       "    .dataframe tbody tr th:only-of-type {\n",
       "        vertical-align: middle;\n",
       "    }\n",
       "\n",
       "    .dataframe tbody tr th {\n",
       "        vertical-align: top;\n",
       "    }\n",
       "\n",
       "    .dataframe thead th {\n",
       "        text-align: right;\n",
       "    }\n",
       "</style>\n",
       "<table border=\"1\" class=\"dataframe\">\n",
       "  <thead>\n",
       "    <tr style=\"text-align: right;\">\n",
       "      <th></th>\n",
       "      <th>tweet_id</th>\n",
       "      <th>airline_sentiment</th>\n",
       "      <th>airline_sentiment_confidence</th>\n",
       "      <th>negativereason</th>\n",
       "      <th>negativereason_confidence</th>\n",
       "      <th>airline</th>\n",
       "      <th>airline_sentiment_gold</th>\n",
       "      <th>name</th>\n",
       "      <th>negativereason_gold</th>\n",
       "      <th>retweet_count</th>\n",
       "      <th>text</th>\n",
       "      <th>tweet_coord</th>\n",
       "      <th>tweet_created</th>\n",
       "      <th>tweet_location</th>\n",
       "      <th>user_timezone</th>\n",
       "    </tr>\n",
       "  </thead>\n",
       "  <tbody>\n",
       "    <tr>\n",
       "      <th>0</th>\n",
       "      <td>570306133677760513</td>\n",
       "      <td>neutral</td>\n",
       "      <td>1.0000</td>\n",
       "      <td>NaN</td>\n",
       "      <td>NaN</td>\n",
       "      <td>Virgin America</td>\n",
       "      <td>NaN</td>\n",
       "      <td>cairdin</td>\n",
       "      <td>NaN</td>\n",
       "      <td>0</td>\n",
       "      <td>@VirginAmerica What @dhepburn said.</td>\n",
       "      <td>NaN</td>\n",
       "      <td>2015-02-24 11:35:52 -0800</td>\n",
       "      <td>NaN</td>\n",
       "      <td>Eastern Time (US &amp; Canada)</td>\n",
       "    </tr>\n",
       "    <tr>\n",
       "      <th>1</th>\n",
       "      <td>570301130888122368</td>\n",
       "      <td>positive</td>\n",
       "      <td>0.3486</td>\n",
       "      <td>NaN</td>\n",
       "      <td>0.0000</td>\n",
       "      <td>Virgin America</td>\n",
       "      <td>NaN</td>\n",
       "      <td>jnardino</td>\n",
       "      <td>NaN</td>\n",
       "      <td>0</td>\n",
       "      <td>@VirginAmerica plus you've added commercials t...</td>\n",
       "      <td>NaN</td>\n",
       "      <td>2015-02-24 11:15:59 -0800</td>\n",
       "      <td>NaN</td>\n",
       "      <td>Pacific Time (US &amp; Canada)</td>\n",
       "    </tr>\n",
       "    <tr>\n",
       "      <th>2</th>\n",
       "      <td>570301083672813571</td>\n",
       "      <td>neutral</td>\n",
       "      <td>0.6837</td>\n",
       "      <td>NaN</td>\n",
       "      <td>NaN</td>\n",
       "      <td>Virgin America</td>\n",
       "      <td>NaN</td>\n",
       "      <td>yvonnalynn</td>\n",
       "      <td>NaN</td>\n",
       "      <td>0</td>\n",
       "      <td>@VirginAmerica I didn't today... Must mean I n...</td>\n",
       "      <td>NaN</td>\n",
       "      <td>2015-02-24 11:15:48 -0800</td>\n",
       "      <td>Lets Play</td>\n",
       "      <td>Central Time (US &amp; Canada)</td>\n",
       "    </tr>\n",
       "    <tr>\n",
       "      <th>3</th>\n",
       "      <td>570301031407624196</td>\n",
       "      <td>negative</td>\n",
       "      <td>1.0000</td>\n",
       "      <td>Bad Flight</td>\n",
       "      <td>0.7033</td>\n",
       "      <td>Virgin America</td>\n",
       "      <td>NaN</td>\n",
       "      <td>jnardino</td>\n",
       "      <td>NaN</td>\n",
       "      <td>0</td>\n",
       "      <td>@VirginAmerica it's really aggressive to blast...</td>\n",
       "      <td>NaN</td>\n",
       "      <td>2015-02-24 11:15:36 -0800</td>\n",
       "      <td>NaN</td>\n",
       "      <td>Pacific Time (US &amp; Canada)</td>\n",
       "    </tr>\n",
       "    <tr>\n",
       "      <th>4</th>\n",
       "      <td>570300817074462722</td>\n",
       "      <td>negative</td>\n",
       "      <td>1.0000</td>\n",
       "      <td>Can't Tell</td>\n",
       "      <td>1.0000</td>\n",
       "      <td>Virgin America</td>\n",
       "      <td>NaN</td>\n",
       "      <td>jnardino</td>\n",
       "      <td>NaN</td>\n",
       "      <td>0</td>\n",
       "      <td>@VirginAmerica and it's a really big bad thing...</td>\n",
       "      <td>NaN</td>\n",
       "      <td>2015-02-24 11:14:45 -0800</td>\n",
       "      <td>NaN</td>\n",
       "      <td>Pacific Time (US &amp; Canada)</td>\n",
       "    </tr>\n",
       "  </tbody>\n",
       "</table>\n",
       "</div>"
      ],
      "text/plain": [
       "             tweet_id airline_sentiment  airline_sentiment_confidence  \\\n",
       "0  570306133677760513           neutral                        1.0000   \n",
       "1  570301130888122368          positive                        0.3486   \n",
       "2  570301083672813571           neutral                        0.6837   \n",
       "3  570301031407624196          negative                        1.0000   \n",
       "4  570300817074462722          negative                        1.0000   \n",
       "\n",
       "  negativereason  negativereason_confidence         airline  \\\n",
       "0            NaN                        NaN  Virgin America   \n",
       "1            NaN                     0.0000  Virgin America   \n",
       "2            NaN                        NaN  Virgin America   \n",
       "3     Bad Flight                     0.7033  Virgin America   \n",
       "4     Can't Tell                     1.0000  Virgin America   \n",
       "\n",
       "  airline_sentiment_gold        name negativereason_gold  retweet_count  \\\n",
       "0                    NaN     cairdin                 NaN              0   \n",
       "1                    NaN    jnardino                 NaN              0   \n",
       "2                    NaN  yvonnalynn                 NaN              0   \n",
       "3                    NaN    jnardino                 NaN              0   \n",
       "4                    NaN    jnardino                 NaN              0   \n",
       "\n",
       "                                                text tweet_coord  \\\n",
       "0                @VirginAmerica What @dhepburn said.         NaN   \n",
       "1  @VirginAmerica plus you've added commercials t...         NaN   \n",
       "2  @VirginAmerica I didn't today... Must mean I n...         NaN   \n",
       "3  @VirginAmerica it's really aggressive to blast...         NaN   \n",
       "4  @VirginAmerica and it's a really big bad thing...         NaN   \n",
       "\n",
       "               tweet_created tweet_location               user_timezone  \n",
       "0  2015-02-24 11:35:52 -0800            NaN  Eastern Time (US & Canada)  \n",
       "1  2015-02-24 11:15:59 -0800            NaN  Pacific Time (US & Canada)  \n",
       "2  2015-02-24 11:15:48 -0800      Lets Play  Central Time (US & Canada)  \n",
       "3  2015-02-24 11:15:36 -0800            NaN  Pacific Time (US & Canada)  \n",
       "4  2015-02-24 11:14:45 -0800            NaN  Pacific Time (US & Canada)  "
      ]
     },
     "execution_count": 8,
     "metadata": {},
     "output_type": "execute_result"
    }
   ],
   "source": [
    "df = pd.read_csv(DATA + \"/AirlineTweets.csv\") \n",
    "df.head()"
   ]
  },
  {
   "cell_type": "code",
   "execution_count": 9,
   "metadata": {},
   "outputs": [
    {
     "data": {
      "text/plain": [
       "<AxesSubplot:>"
      ]
     },
     "execution_count": 9,
     "metadata": {},
     "output_type": "execute_result"
    },
    {
     "data": {
      "image/png": "[encoded data removed]",
      "text/plain": [
       "<Figure size 432x288 with 1 Axes>"
      ]
     },
     "metadata": {
      "needs_background": "light"
     },
     "output_type": "display_data"
    }
   ],
   "source": [
    "df = df[['text', 'airline_sentiment']].copy()\n",
    "df['airline_sentiment'].hist()"
   ]
  },
  {
   "cell_type": "markdown",
   "metadata": {},
   "source": [
    "3 classes to predict :multi classification problem\n",
    "imbalenced data set : negative texts are over presented compared to the other two classes"
   ]
  },
  {
   "cell_type": "code",
   "execution_count": 10,
   "metadata": {},
   "outputs": [],
   "source": [
    "# filter out neutral classes because our pre trained model only predict positive or negative\n",
    "df = df[df[\"airline_sentiment\"] != \"neutral\"]\n",
    "\n",
    "#encode classes\n",
    "target_map = {'positive' : 1,\\\n",
    "     'negative' :  0}\n",
    "df['target'] = df[\"airline_sentiment\"].map(target_map)"
   ]
  },
  {
   "cell_type": "code",
   "execution_count": 13,
   "metadata": {},
   "outputs": [
    {
     "data": {
      "text/html": [
       "<div>\n",
       "<style scoped>\n",
       "    .dataframe tbody tr th:only-of-type {\n",
       "        vertical-align: middle;\n",
       "    }\n",
       "\n",
       "    .dataframe tbody tr th {\n",
       "        vertical-align: top;\n",
       "    }\n",
       "\n",
       "    .dataframe thead th {\n",
       "        text-align: right;\n",
       "    }\n",
       "</style>\n",
       "<table border=\"1\" class=\"dataframe\">\n",
       "  <thead>\n",
       "    <tr style=\"text-align: right;\">\n",
       "      <th></th>\n",
       "      <th>text</th>\n",
       "      <th>airline_sentiment</th>\n",
       "      <th>target</th>\n",
       "    </tr>\n",
       "  </thead>\n",
       "  <tbody>\n",
       "    <tr>\n",
       "      <th>1</th>\n",
       "      <td>@VirginAmerica plus you've added commercials t...</td>\n",
       "      <td>positive</td>\n",
       "      <td>1</td>\n",
       "    </tr>\n",
       "    <tr>\n",
       "      <th>3</th>\n",
       "      <td>@VirginAmerica it's really aggressive to blast...</td>\n",
       "      <td>negative</td>\n",
       "      <td>0</td>\n",
       "    </tr>\n",
       "    <tr>\n",
       "      <th>4</th>\n",
       "      <td>@VirginAmerica and it's a really big bad thing...</td>\n",
       "      <td>negative</td>\n",
       "      <td>0</td>\n",
       "    </tr>\n",
       "    <tr>\n",
       "      <th>5</th>\n",
       "      <td>@VirginAmerica seriously would pay $30 a fligh...</td>\n",
       "      <td>negative</td>\n",
       "      <td>0</td>\n",
       "    </tr>\n",
       "    <tr>\n",
       "      <th>6</th>\n",
       "      <td>@VirginAmerica yes, nearly every time I fly VX...</td>\n",
       "      <td>positive</td>\n",
       "      <td>1</td>\n",
       "    </tr>\n",
       "  </tbody>\n",
       "</table>\n",
       "</div>"
      ],
      "text/plain": [
       "                                                text airline_sentiment  target\n",
       "1  @VirginAmerica plus you've added commercials t...          positive       1\n",
       "3  @VirginAmerica it's really aggressive to blast...          negative       0\n",
       "4  @VirginAmerica and it's a really big bad thing...          negative       0\n",
       "5  @VirginAmerica seriously would pay $30 a fligh...          negative       0\n",
       "6  @VirginAmerica yes, nearly every time I fly VX...          positive       1"
      ]
     },
     "metadata": {},
     "output_type": "display_data"
    },
    {
     "name": "stdout",
     "output_type": "stream",
     "text": [
      " number of rows: 11541\n"
     ]
    }
   ],
   "source": [
    "display(df.head())\n",
    "print(f\" number of rows: {len(df)}\")"
   ]
  },
  {
   "cell_type": "code",
   "execution_count": 24,
   "metadata": {},
   "outputs": [],
   "source": [
    "predictions = Classifier(list(df['text'].iloc[0:100]))"
   ]
  },
  {
   "cell_type": "code",
   "execution_count": 23,
   "metadata": {},
   "outputs": [
    {
     "data": {
      "text/plain": [
       "[\"@VirginAmerica plus you've added commercials to the experience... tacky.\",\n",
       " '@VirginAmerica it\\'s really aggressive to blast obnoxious \"entertainment\" in your guests\\' faces &amp; they have little recourse',\n",
       " \"@VirginAmerica and it's a really big bad thing about it\",\n",
       " \"@VirginAmerica seriously would pay $30 a flight for seats that didn't have this playing.\\nit's really the only bad thing about flying VA\",\n",
       " '@VirginAmerica yes, nearly every time I fly VX this “ear worm” won’t go away :)',\n",
       " \"@virginamerica Well, I didn't…but NOW I DO! :-D\",\n",
       " \"@VirginAmerica it was amazing, and arrived an hour early. You're too good to me.\",\n",
       " '@VirginAmerica I &lt;3 pretty graphics. so much better than minimal iconography. :D',\n",
       " \"@VirginAmerica This is such a great deal! Already thinking about my 2nd trip to @Australia &amp; I haven't even gone on my 1st trip yet! ;p\",\n",
       " \"@VirginAmerica @virginmedia I'm flying your #fabulous #Seductive skies again! U take all the #stress away from travel http://t.co/ahlXHhKiyn\",\n",
       " '@VirginAmerica Thanks!',\n",
       " '@VirginAmerica SFO-PDX schedule is still MIA.',\n",
       " \"@VirginAmerica So excited for my first cross country flight LAX to MCO I've heard nothing but great things about Virgin America. #29DaysToGo\",\n",
       " \"@VirginAmerica  I flew from NYC to SFO last week and couldn't fully sit in my seat due to two large gentleman on either side of me. HELP!\",\n",
       " 'I ❤️ flying @VirginAmerica. ☺️👍',\n",
       " '@VirginAmerica you know what would be amazingly awesome? BOS-FLL PLEASE!!!!!!! I want to fly with only you.',\n",
       " '@VirginAmerica why are your first fares in May over three times more than other carriers when all seats are available to select???',\n",
       " '@VirginAmerica I love this graphic. http://t.co/UT5GrRwAaA',\n",
       " '@VirginAmerica I love the hipster innovation. You are a feel good brand.',\n",
       " '@VirginAmerica you guys messed up my seating.. I reserved seating with my friends and you guys gave my seat away ... 😡 I want free internet',\n",
       " \"@VirginAmerica status match program.  I applied and it's been three weeks.  Called and emailed with no response.\",\n",
       " \"@VirginAmerica What happened 2 ur vegan food options?! At least say on ur site so i know I won't be able 2 eat anything for next 6 hrs #fail\",\n",
       " \"@VirginAmerica amazing to me that we can't get any cold air from the vents. #VX358 #noair #worstflightever #roasted #SFOtoBOS\",\n",
       " \"@VirginAmerica hi! I just bked a cool birthday trip with you, but i can't add my elevate no. cause i entered my middle name during Flight Booking Problems 😢\",\n",
       " '@VirginAmerica help, left expensive headphones on flight 89 IAD to LAX today. Seat 2A. No one answering L&amp;F number at LAX!',\n",
       " '@VirginAmerica awaiting my return phone call, just would prefer to use your online self-service option :(',\n",
       " '@VirginAmerica this is great news!  America could start flights to Hawaii by end of year http://t.co/r8p2Zy3fe4 via @Pacificbiznews',\n",
       " '@VirginAmerica Moodlighting is the only way to fly! Best experience EVER! Cool and calming. 💜✈ #MoodlitMonday',\n",
       " '@VirginAmerica @freddieawards Done and done! Best airline around, hands down!',\n",
       " '@VirginAmerica Your chat support is not working on your site: http://t.co/vhp2GtDWPk',\n",
       " '@VirginAmerica View of downtown Los Angeles, the Hollywood Sign, and beyond that rain in the mountains! http://t.co/Dw5nf0ibtr',\n",
       " \"@VirginAmerica Hey, first time flyer next week - excited! But I'm having a hard time getting my flights added to my Elevate account. Help?\",\n",
       " \"@VirginAmerica I'm #elevategold for a good reason: you rock!!\",\n",
       " '@VirginAmerica wow this just blew my mind',\n",
       " '@VirginAmerica @ladygaga @carrieunderwood Julie Andrews all the way though @ladygaga was very impressive! NO to @Carrieunderwood',\n",
       " \"@VirginAmerica hi! i'm so excited about your $99 LGA-&gt;DAL deal- but i've been trying 2 book since last week &amp; the page never loads. thx!\",\n",
       " '@VirginAmerica you know it. Need it on my spotify stat #guiltypleasures',\n",
       " \"@VirginAmerica @ladygaga @carrieunderwood  I'm Lady Gaga!!! She is amazing! 😊\",\n",
       " \"@VirginAmerica I called a 3-4 weeks ago about adding 3 flights from 2014 to my Elevate...they still haven't shown up...help!\",\n",
       " \"@VirginAmerica @ladygaga @carrieunderwood  love all three but you really can't beat the classics!\",\n",
       " '@VirginAmerica heyyyy guyyyys.. been trying to get through for an hour. can someone call me please? :/',\n",
       " \"@VirginAmerica Hi, Virgin! I'm on hold for 40-50 minutes -- are there any earlier flights from LA to NYC tonight; earlier than 11:50pm?\",\n",
       " '@VirginAmerica Congrats on winning the @Travelzoo award for Best Deals from an Airline (US) http://t.co/kj1iljaebV',\n",
       " '@VirginAmerica everything was fine until you lost my bag',\n",
       " '@VirginAmerica your airline is awesome but your lax loft needs to step up its game. $40 for dirty tables and floors? http://t.co/hy0VrfhjHt',\n",
       " \"@VirginAmerica not worried, it's been a great ride in a new plane with great crew. All airlines should be like this.\",\n",
       " '@VirginAmerica awesome. I flew yall Sat morning. Any way we can correct my bill ?',\n",
       " '@VirginAmerica what is going on with customer service? Is there anyway to speak to a human asap? Thank you.',\n",
       " \"@VirginAmerica why can't you supp the biz traveler like @SouthwestAir  and have customer service like @JetBlue #neverflyvirginforbusiness\",\n",
       " \"@VirginAmerica I've applied more then once to be a member of the #inflight crew team...Im 100% interested. #flightattendant #dreampath -G\",\n",
       " \"@VirginAmerica you're the best!! Whenever I (begrudgingly) use any other airline I'm delayed and Late Flight :(\",\n",
       " '@VirginAmerica I have no interesting flying with you after this. I will Cancelled Flight my next four flights I planned.#neverflyvirginforbusiness',\n",
       " '@VirginAmerica it was a disappointing experience which will be shared with every business traveler I meet. #neverflyvirgin',\n",
       " '@VirginAmerica I’m having trouble adding this flight my wife booked to my Elevate account. Help? http://t.co/pX8hQOKS3R',\n",
       " '@VirginAmerica Why is the site down?  When will it be back up?',\n",
       " '@VirginAmerica I like the TV and interesting video . Just disappointed in Cancelled Flightled flight when other flights went out to jfk on Saturday .',\n",
       " '@VirginAmerica just landed in LAX, an hour after I should of been here. Your no Late Flight bag check is not business travel friendly #nomorevirgin',\n",
       " \"@VirginAmerica Is it me, or is your website down?  BTW, your new website isn't a great user experience.  Time for another redesign.\",\n",
       " \"@VirginAmerica I can't check in or add a bag. Your website isn't working. I've tried both desktop and mobile http://t.co/AvyqdMpi1Y\",\n",
       " '@VirginAmerica - Let 2 scanned in passengers leave the plane than told someone to remove their bag from 1st class bin? #uncomfortable',\n",
       " \"@virginamerica What is your phone number. I can't find who to call about a flight reservation.\",\n",
       " '@VirginAmerica is anyone doing anything there today?  Website is useless and no one is answering the phone.',\n",
       " '@VirginAmerica why must a traveler miss a flight to Late Flight check a bag?  I missed my morning appointments and you lost my business. #sfo2lax',\n",
       " \"@virginamerica how's a direct flight FLL-&gt;SFO have unexpected layover in Vegas 4 fuel yet peeps next to me bought for Vegas flight. #sneaky\",\n",
       " '@VirginAmerica your no Late Flight bag check just lost you my business. I missed flight and AM apt. Three other people on flight had same exp.',\n",
       " \"@VirginAmerica - amazing customer  service, again! 💕💕 RaeAnn in SF - she's the best! #customerservice #virginamerica #flying\",\n",
       " '@VirginAmerica called your service line and was hung up on. This is awesome. #sarcasm',\n",
       " \"@VirginAmerica your site is tripping. I'm trying to check in and I'm getting the plain text version. I am reluctant to enter any card info.\",\n",
       " '@VirginAmerica has getaway deals through May, from $59 one-way. Lots of cool cities http://t.co/tZZJhuIbCH #CheapFlights #FareCompare',\n",
       " '@VirginAmerica has getaway deals through May, from $59 one-way. Lots of cool cities http://t.co/B2Xi4YG5T8 #CheapFlights #FareCompare',\n",
       " '@VirginAmerica Have a great week 🌞✈',\n",
       " '@VirginAmerica come back to #PHL already. We need you to take us out of this horrible cold. #pleasecomeback http://t.co/gLXFwP6nQH',\n",
       " '@VirginAmerica should I be concerned that I am about to fly on a plane that needs to be delayed due to a \"tech stop\"?',\n",
       " '@VirginAmerica is the best airline I have flown on.Easy to change your reservation,helpful representatives &amp; a comfortable flying experience',\n",
       " '@VirginAmerica and again! Another rep kicked butt! Naelah represents your team so beautifully!! Thank you!!!',\n",
       " '@VirginAmerica your beautiful front-end design is down right now; but it was cool to still book my ticket b/c all your back-end was secure.',\n",
       " '@VirginAmerica Love the team running Gate E9 at LAS tonight. Waited for a delayed flight, and they kept things entertaining',\n",
       " \"@VirginAmerica Use another browser! 2015 &amp; a brand with a reputation built on tech response doesn't have a cross-browser compatible website?\",\n",
       " '@VirginAmerica And now the flight Flight Booking Problems site is totally down. Folks, what is the problem?',\n",
       " '@VirginAmerica I like the customer service but a 40 min delay just for connecting passengers seems too long. VA370',\n",
       " '@VirginAmerica thanks to your outstanding NYC-JFK crew who moved mountains to get me home to San Francisco tonight!',\n",
       " \"@VirginAmerica you have the absolute best team and customer service ever.  Every time I fly with you I'm delighted.  Thank you!\",\n",
       " '@VirginAmerica i need to change my flight thats scheduled in 9 hours and 120 min wait time on phone. Im calling intern. Help!!',\n",
       " '@VirginAmerica completely awesome experience last month BOS-LAS nonstop. Thanks for such an awesome flight and depart time. #VAbeatsJblue',\n",
       " '@VirginAmerica you are failing your customers because your check in process does not link to TSA pre-check.',\n",
       " '@VirginAmerica @FiDiFamilies us too! Terrible airline! Just gave us a hotel hotline number and said sorry',\n",
       " '@VirginAmerica @ChrysiChrysic your assistance yesterday when u Cancelled Flightled our flight was to give us a hotel hotline  Shame on you!',\n",
       " '@VirginAmerica Another delayed flight? #likingyoulessandless',\n",
       " '@VirginAmerica I need to register a service dog for a first class ticket from SFO &gt; Dulles. The phone queue is an hour or longer. Pls advise',\n",
       " '@virginamerica you ROCK for making it so I can watch #Oscars on my flight!! #redcarpet #oscars #oscars2015',\n",
       " '@VirginAmerica always!!! Xoxo',\n",
       " \"@VirginAmerica why can't we book seats on your flights when we buy them or even during check in? Creates so much anxiety! #frustrated\",\n",
       " \"@VirginAmerica You'd think paying an extra $100 bucks RT for luggage might afford you hiring an extra hand at @sfo #lame\",\n",
       " '@VirginAmerica best customer service rep in the world! #irmafromDallas takes the cake!!!',\n",
       " \"@VirginAmerica please provide status for flight 769.  I cant imagine it's on time as the Web indicates  dude to weather here and/or Dallas\",\n",
       " '@VirginAmerica you have amazing staff &amp; super helpful as I just ran the @WaltDisneyWorld #PrincessHalf they have spoiled me with comfort!!!',\n",
       " '@VirginAmerica I paid the premium to fly you across the country, you Cancelled Flight my flight and offer no check fee or upgrade love? Sad face :(',\n",
       " \"@VirginAmerica question: is it not possible to book a seat for an infant under 2? It's not giving me the option but we want a seat for him.\",\n",
       " \"Always have it together!!! You're welcome! RT @VirginAmerica: @jessicajaymes You're so welcome.\",\n",
       " \"@virginamerica #flight home to #dc #sunset #globe in' #backtowinter back to #work! #refreshed http://t.co/VX9vBCTdLf\"]"
      ]
     },
     "execution_count": 23,
     "metadata": {},
     "output_type": "execute_result"
    }
   ],
   "source": [
    "# list(df['text'].iloc[0:100])"
   ]
  },
  {
   "cell_type": "code",
   "execution_count": 25,
   "metadata": {},
   "outputs": [
    {
     "data": {
      "text/plain": [
       "[{'label': 'POSITIVE', 'score': 0.6070870757102966},\n",
       " {'label': 'NEGATIVE', 'score': 0.9973449110984802},\n",
       " {'label': 'NEGATIVE', 'score': 0.9995823502540588},\n",
       " {'label': 'NEGATIVE', 'score': 0.9854251742362976},\n",
       " {'label': 'POSITIVE', 'score': 0.9553210139274597},\n",
       " {'label': 'POSITIVE', 'score': 0.9827088117599487},\n",
       " {'label': 'POSITIVE', 'score': 0.9994851350784302},\n",
       " {'label': 'POSITIVE', 'score': 0.9993509650230408},\n",
       " {'label': 'POSITIVE', 'score': 0.9940821528434753},\n",
       " {'label': 'POSITIVE', 'score': 0.9863133430480957},\n",
       " {'label': 'POSITIVE', 'score': 0.9996304512023926},\n",
       " {'label': 'NEGATIVE', 'score': 0.9980512857437134},\n",
       " {'label': 'POSITIVE', 'score': 0.9964436888694763},\n",
       " {'label': 'NEGATIVE', 'score': 0.9968666434288025},\n",
       " {'label': 'POSITIVE', 'score': 0.9787647724151611},\n",
       " {'label': 'POSITIVE', 'score': 0.9995218515396118},\n",
       " {'label': 'NEGATIVE', 'score': 0.9954516291618347},\n",
       " {'label': 'POSITIVE', 'score': 0.9995624423027039},\n",
       " {'label': 'POSITIVE', 'score': 0.9998748302459717},\n",
       " {'label': 'NEGATIVE', 'score': 0.9951193332672119},\n",
       " {'label': 'NEGATIVE', 'score': 0.9995952248573303},\n",
       " {'label': 'NEGATIVE', 'score': 0.9993677735328674},\n",
       " {'label': 'NEGATIVE', 'score': 0.9845718145370483},\n",
       " {'label': 'NEGATIVE', 'score': 0.9817190766334534},\n",
       " {'label': 'NEGATIVE', 'score': 0.9995517134666443},\n",
       " {'label': 'NEGATIVE', 'score': 0.9976251721382141},\n",
       " {'label': 'POSITIVE', 'score': 0.9934480786323547},\n",
       " {'label': 'POSITIVE', 'score': 0.9976067543029785},\n",
       " {'label': 'POSITIVE', 'score': 0.8661724328994751},\n",
       " {'label': 'NEGATIVE', 'score': 0.9996762275695801},\n",
       " {'label': 'POSITIVE', 'score': 0.841560959815979},\n",
       " {'label': 'NEGATIVE', 'score': 0.9967682361602783},\n",
       " {'label': 'POSITIVE', 'score': 0.9997846484184265},\n",
       " {'label': 'NEGATIVE', 'score': 0.8238542675971985},\n",
       " {'label': 'POSITIVE', 'score': 0.9993895292282104},\n",
       " {'label': 'NEGATIVE', 'score': 0.9084339141845703},\n",
       " {'label': 'NEGATIVE', 'score': 0.9951382875442505},\n",
       " {'label': 'POSITIVE', 'score': 0.9997820258140564},\n",
       " {'label': 'NEGATIVE', 'score': 0.9985764026641846},\n",
       " {'label': 'NEGATIVE', 'score': 0.995326042175293},\n",
       " {'label': 'NEGATIVE', 'score': 0.9953575730323792},\n",
       " {'label': 'NEGATIVE', 'score': 0.9809589982032776},\n",
       " {'label': 'POSITIVE', 'score': 0.9911696910858154},\n",
       " {'label': 'NEGATIVE', 'score': 0.9874495267868042},\n",
       " {'label': 'NEGATIVE', 'score': 0.9919006824493408},\n",
       " {'label': 'POSITIVE', 'score': 0.9994875192642212},\n",
       " {'label': 'POSITIVE', 'score': 0.9327107071876526},\n",
       " {'label': 'NEGATIVE', 'score': 0.9607422947883606},\n",
       " {'label': 'NEGATIVE', 'score': 0.9946909546852112},\n",
       " {'label': 'POSITIVE', 'score': 0.7814912796020508},\n",
       " {'label': 'POSITIVE', 'score': 0.9995588660240173},\n",
       " {'label': 'NEGATIVE', 'score': 0.9996135830879211},\n",
       " {'label': 'NEGATIVE', 'score': 0.9964356422424316},\n",
       " {'label': 'NEGATIVE', 'score': 0.9983514547348022},\n",
       " {'label': 'NEGATIVE', 'score': 0.9997578263282776},\n",
       " {'label': 'NEGATIVE', 'score': 0.9969521760940552},\n",
       " {'label': 'NEGATIVE', 'score': 0.9992448091506958},\n",
       " {'label': 'NEGATIVE', 'score': 0.9997953772544861},\n",
       " {'label': 'NEGATIVE', 'score': 0.9996330738067627},\n",
       " {'label': 'NEGATIVE', 'score': 0.9994520545005798},\n",
       " {'label': 'NEGATIVE', 'score': 0.9991872906684875},\n",
       " {'label': 'NEGATIVE', 'score': 0.9997692704200745},\n",
       " {'label': 'NEGATIVE', 'score': 0.9997703433036804},\n",
       " {'label': 'NEGATIVE', 'score': 0.8970157504081726},\n",
       " {'label': 'NEGATIVE', 'score': 0.9054797291755676},\n",
       " {'label': 'POSITIVE', 'score': 0.9998458623886108},\n",
       " {'label': 'POSITIVE', 'score': 0.9991962313652039},\n",
       " {'label': 'NEGATIVE', 'score': 0.9986805319786072},\n",
       " {'label': 'NEGATIVE', 'score': 0.8311478495597839},\n",
       " {'label': 'NEGATIVE', 'score': 0.7618747353553772},\n",
       " {'label': 'POSITIVE', 'score': 0.9944596290588379},\n",
       " {'label': 'NEGATIVE', 'score': 0.9948430061340332},\n",
       " {'label': 'NEGATIVE', 'score': 0.9971551895141602},\n",
       " {'label': 'POSITIVE', 'score': 0.9998231530189514},\n",
       " {'label': 'POSITIVE', 'score': 0.9997099041938782},\n",
       " {'label': 'POSITIVE', 'score': 0.996866762638092},\n",
       " {'label': 'POSITIVE', 'score': 0.9997057318687439},\n",
       " {'label': 'NEGATIVE', 'score': 0.9987350106239319},\n",
       " {'label': 'NEGATIVE', 'score': 0.9997817873954773},\n",
       " {'label': 'NEGATIVE', 'score': 0.9993529915809631},\n",
       " {'label': 'POSITIVE', 'score': 0.9998396635055542},\n",
       " {'label': 'POSITIVE', 'score': 0.9998757839202881},\n",
       " {'label': 'NEGATIVE', 'score': 0.9926002025604248},\n",
       " {'label': 'POSITIVE', 'score': 0.998897910118103},\n",
       " {'label': 'NEGATIVE', 'score': 0.999751627445221},\n",
       " {'label': 'NEGATIVE', 'score': 0.9996337890625},\n",
       " {'label': 'NEGATIVE', 'score': 0.9992284774780273},\n",
       " {'label': 'NEGATIVE', 'score': 0.997455894947052},\n",
       " {'label': 'NEGATIVE', 'score': 0.9996596574783325},\n",
       " {'label': 'POSITIVE', 'score': 0.9994229078292847},\n",
       " {'label': 'POSITIVE', 'score': 0.9981597065925598},\n",
       " {'label': 'NEGATIVE', 'score': 0.9993283748626709},\n",
       " {'label': 'NEGATIVE', 'score': 0.9996140599250793},\n",
       " {'label': 'POSITIVE', 'score': 0.999186098575592},\n",
       " {'label': 'NEGATIVE', 'score': 0.9638660550117493},\n",
       " {'label': 'POSITIVE', 'score': 0.9996715784072876},\n",
       " {'label': 'NEGATIVE', 'score': 0.9969021081924438},\n",
       " {'label': 'NEGATIVE', 'score': 0.5200213193893433},\n",
       " {'label': 'POSITIVE', 'score': 0.999839186668396},\n",
       " {'label': 'POSITIVE', 'score': 0.9719913601875305}]"
      ]
     },
     "execution_count": 25,
     "metadata": {},
     "output_type": "execute_result"
    }
   ],
   "source": [
    "predictions "
   ]
  },
  {
   "cell_type": "markdown",
   "metadata": {},
   "source": [
    "#### Computing AUC"
   ]
  },
  {
   "cell_type": "code",
   "execution_count": 32,
   "metadata": {},
   "outputs": [
    {
     "data": {
      "text/html": [
       "<div>\n",
       "<style scoped>\n",
       "    .dataframe tbody tr th:only-of-type {\n",
       "        vertical-align: middle;\n",
       "    }\n",
       "\n",
       "    .dataframe tbody tr th {\n",
       "        vertical-align: top;\n",
       "    }\n",
       "\n",
       "    .dataframe thead th {\n",
       "        text-align: right;\n",
       "    }\n",
       "</style>\n",
       "<table border=\"1\" class=\"dataframe\">\n",
       "  <thead>\n",
       "    <tr style=\"text-align: right;\">\n",
       "      <th></th>\n",
       "      <th>text</th>\n",
       "      <th>airline_sentiment</th>\n",
       "      <th>target</th>\n",
       "    </tr>\n",
       "  </thead>\n",
       "  <tbody>\n",
       "    <tr>\n",
       "      <th>1</th>\n",
       "      <td>@VirginAmerica plus you've added commercials t...</td>\n",
       "      <td>positive</td>\n",
       "      <td>1</td>\n",
       "    </tr>\n",
       "    <tr>\n",
       "      <th>3</th>\n",
       "      <td>@VirginAmerica it's really aggressive to blast...</td>\n",
       "      <td>negative</td>\n",
       "      <td>0</td>\n",
       "    </tr>\n",
       "    <tr>\n",
       "      <th>4</th>\n",
       "      <td>@VirginAmerica and it's a really big bad thing...</td>\n",
       "      <td>negative</td>\n",
       "      <td>0</td>\n",
       "    </tr>\n",
       "    <tr>\n",
       "      <th>5</th>\n",
       "      <td>@VirginAmerica seriously would pay $30 a fligh...</td>\n",
       "      <td>negative</td>\n",
       "      <td>0</td>\n",
       "    </tr>\n",
       "    <tr>\n",
       "      <th>6</th>\n",
       "      <td>@VirginAmerica yes, nearly every time I fly VX...</td>\n",
       "      <td>positive</td>\n",
       "      <td>1</td>\n",
       "    </tr>\n",
       "    <tr>\n",
       "      <th>...</th>\n",
       "      <td>...</td>\n",
       "      <td>...</td>\n",
       "      <td>...</td>\n",
       "    </tr>\n",
       "    <tr>\n",
       "      <th>144</th>\n",
       "      <td>@VirginAmerica you have amazing staff &amp;amp; su...</td>\n",
       "      <td>positive</td>\n",
       "      <td>1</td>\n",
       "    </tr>\n",
       "    <tr>\n",
       "      <th>145</th>\n",
       "      <td>@VirginAmerica I paid the premium to fly you a...</td>\n",
       "      <td>negative</td>\n",
       "      <td>0</td>\n",
       "    </tr>\n",
       "    <tr>\n",
       "      <th>146</th>\n",
       "      <td>@VirginAmerica question: is it not possible to...</td>\n",
       "      <td>negative</td>\n",
       "      <td>0</td>\n",
       "    </tr>\n",
       "    <tr>\n",
       "      <th>147</th>\n",
       "      <td>Always have it together!!! You're welcome! RT ...</td>\n",
       "      <td>positive</td>\n",
       "      <td>1</td>\n",
       "    </tr>\n",
       "    <tr>\n",
       "      <th>148</th>\n",
       "      <td>@virginamerica #flight home to #dc #sunset #gl...</td>\n",
       "      <td>positive</td>\n",
       "      <td>1</td>\n",
       "    </tr>\n",
       "  </tbody>\n",
       "</table>\n",
       "<p>100 rows × 3 columns</p>\n",
       "</div>"
      ],
      "text/plain": [
       "                                                  text airline_sentiment  \\\n",
       "1    @VirginAmerica plus you've added commercials t...          positive   \n",
       "3    @VirginAmerica it's really aggressive to blast...          negative   \n",
       "4    @VirginAmerica and it's a really big bad thing...          negative   \n",
       "5    @VirginAmerica seriously would pay $30 a fligh...          negative   \n",
       "6    @VirginAmerica yes, nearly every time I fly VX...          positive   \n",
       "..                                                 ...               ...   \n",
       "144  @VirginAmerica you have amazing staff &amp; su...          positive   \n",
       "145  @VirginAmerica I paid the premium to fly you a...          negative   \n",
       "146  @VirginAmerica question: is it not possible to...          negative   \n",
       "147  Always have it together!!! You're welcome! RT ...          positive   \n",
       "148  @virginamerica #flight home to #dc #sunset #gl...          positive   \n",
       "\n",
       "     target  \n",
       "1         1  \n",
       "3         0  \n",
       "4         0  \n",
       "5         0  \n",
       "6         1  \n",
       "..      ...  \n",
       "144       1  \n",
       "145       0  \n",
       "146       0  \n",
       "147       1  \n",
       "148       1  \n",
       "\n",
       "[100 rows x 3 columns]"
      ]
     },
     "execution_count": 32,
     "metadata": {},
     "output_type": "execute_result"
    }
   ],
   "source": [
    "# computing probabily of positive feedbacks\n",
    "df_sample = df.iloc[0:100]\n",
    "df_sample "
   ]
  },
  {
   "cell_type": "code",
   "execution_count": 39,
   "metadata": {},
   "outputs": [
    {
     "name": "stdout",
     "output_type": "stream",
     "text": [
      "acc: 0.92\n"
     ]
    }
   ],
   "source": [
    "#Compute accuracy\n",
    "probs = [d[\"score\"] if d[\"label\"].startswith('P') else 1 - d[\"score\"] for d in predictions]\n",
    "\n",
    "preds = np.array([ 1 if d[\"label\"].startswith(\"P\") else 0 for d in predictions ])\n",
    "\n",
    "accuracy = np.mean(df_sample[\"target\"] == preds)\n",
    "\n",
    "print(f\"acc: {accuracy}\")"
   ]
  },
  {
   "cell_type": "code",
   "execution_count": 40,
   "metadata": {},
   "outputs": [
    {
     "data": {
      "text/plain": [
       "array([[0.96363636, 0.03636364],\n",
       "       [0.13333333, 0.86666667]])"
      ]
     },
     "execution_count": 40,
     "metadata": {},
     "output_type": "execute_result"
    }
   ],
   "source": [
    "#confusion matrix\n",
    "cm = confusion_matrix(df_sample['target'] ,  preds, normalize = \"true\")\n",
    "cm"
   ]
  },
  {
   "cell_type": "code",
   "execution_count": 44,
   "metadata": {},
   "outputs": [],
   "source": [
    "def plot_cm(cm):\n",
    "    classes =[\"negative\", \"positive\"]\n",
    "    df_cm = pd.DataFrame(cm, index=classes , columns=classes)\n",
    "    ax = sn.heatmap(df_cm , annot= \"True\", fmt='g')\n",
    "    ax.set_xlabel(\"Predicted\")\n",
    "    ax.set_ylabel(\"Traget\")\n"
   ]
  },
  {
   "cell_type": "code",
   "execution_count": null,
   "metadata": {},
   "outputs": [],
   "source": []
  }
 ],
 "metadata": {
  "interpreter": {
   "hash": "e17245beed66d97676295f18f5af02f52c1ff0b20014505018e20bb50c7c46d6"
  },
  "kernelspec": {
   "display_name": "Python 3.9.7 ('base')",
   "language": "python",
   "name": "python3"
  },
  "language_info": {
   "codemirror_mode": {
    "name": "ipython",
    "version": 3
   },
   "file_extension": ".py",
   "mimetype": "text/x-python",
   "name": "python",
   "nbconvert_exporter": "python",
   "pygments_lexer": "ipython3",
   "version": "3.9.7"
  },
  "orig_nbformat": 4
 },
 "nbformat": 4,
 "nbformat_minor": 2
}
